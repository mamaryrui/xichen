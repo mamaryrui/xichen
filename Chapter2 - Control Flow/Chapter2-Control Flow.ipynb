{
 "cells": [
  {
   "cell_type": "markdown",
   "metadata": {},
   "source": [
    "# Chapter 2 Control Flow"
   ]
  },
  {
   "cell_type": "markdown",
   "metadata": {},
   "source": [
    "**Dr. Pengfei Zhao**\n",
    "\n",
    "Finance Mathematics Program, \n",
    "\n",
    "BNU-HKBU United International College"
   ]
  },
  {
   "cell_type": "markdown",
   "metadata": {},
   "source": [
    "## 2.1 The \"if\" statement"
   ]
  },
  {
   "cell_type": "markdown",
   "metadata": {},
   "source": [
    "* All the programs we see until now are executed **sequentially**, which means the program is executed statement by statement from the top to the bottom. The work flow can be illustrated by below **flow chart**."
   ]
  },
  {
   "cell_type": "markdown",
   "metadata": {},
   "source": [
    " <img src=\"sequential.png\" width = \"380\" height = \"250\" alt=\"图片名称\" align=center />"
   ]
  },
  {
   "cell_type": "markdown",
   "metadata": {},
   "source": [
    "* What if you want to change the flow of how the program is executed? For example, you want the program to take some decisions and do different things accordingly. You can use the **if** statement. The work flow can be illustrated below."
   ]
  },
  {
   "cell_type": "markdown",
   "metadata": {},
   "source": [
    " <img src=\"if.png\" width = \"380\" height = \"250\" alt=\"图片名称\" align=center />"
   ]
  },
  {
   "cell_type": "markdown",
   "metadata": {},
   "source": [
    "* The *condition* is always a boolean expression (expression involving boolean operators). **if** statement will check whether the condition is *True* or *False*, and execute accordingly."
   ]
  },
  {
   "cell_type": "markdown",
   "metadata": {},
   "source": [
    "#### Example: Using the if statement"
   ]
  },
  {
   "cell_type": "code",
   "execution_count": 2,
   "metadata": {
    "collapsed": false
   },
   "outputs": [
    {
     "name": "stdout",
     "output_type": "stream",
     "text": [
      "Enter an integer : 10\n",
      "No, it is a little higher than that\n"
     ]
    }
   ],
   "source": [
    "number = 23\n",
    "guess = int(raw_input('Enter an integer : '))\n",
    "if guess == number:\n",
    "    print 'Congratulations, you guessed it.' # New block starts here\n",
    "    print \"(but you do not win any prizes!)\" # New block ends here\n",
    "elif guess < number:\n",
    "    print 'No, it is a little higher than that' # Another block\n",
    "# You can do whatever you want in a block ...\n",
    "else:\n",
    "    print 'No, it is a little lower than that'\n",
    "# you must have guess > number to reach here\n",
    "    print 'Done'\n",
    "# This last statement is always executed, after the if statement is executed\n"
   ]
  },
  {
   "cell_type": "markdown",
   "metadata": {},
   "source": [
    "## 2. The \"while\" statement"
   ]
  },
  {
   "cell_type": "markdown",
   "metadata": {},
   "source": [
    "* The **while** statement allows you to repeatedly execute a block of statements as long as a condition is *True*. A while statement is an example of what is called a **looping statement**. "
   ]
  },
  {
   "cell_type": "markdown",
   "metadata": {},
   "source": [
    " <img src=\"while-loop.png\" width = \"380\" height = \"250\" alt=\"图片名称\" align=center />"
   ]
  },
  {
   "cell_type": "markdown",
   "metadata": {},
   "source": [
    "#### Example"
   ]
  },
  {
   "cell_type": "code",
   "execution_count": 3,
   "metadata": {
    "collapsed": false
   },
   "outputs": [
    {
     "name": "stdout",
     "output_type": "stream",
     "text": [
      "Enter an integer : 10\n",
      "No, it is a little higher than that.\n",
      "Enter an integer : 20\n",
      "No, it is a little higher than that.\n",
      "Enter an integer : 30\n",
      "No, it is a little lower than that.\n",
      "Enter an integer : 25\n",
      "No, it is a little lower than that.\n",
      "Enter an integer : 23\n",
      "Congratulations, you guessed it.\n"
     ]
    }
   ],
   "source": [
    "number = 23\n",
    "running = True\n",
    "while running:\n",
    "    guess = int(raw_input('Enter an integer : '))\n",
    "    if guess == number:\n",
    "        print 'Congratulations, you guessed it.'\n",
    "        running = False # this causes the while loop to stop\n",
    "    elif guess < number:\n",
    "        print 'No, it is a little higher than that.'\n",
    "    else:\n",
    "        print 'No, it is a little lower than that.'"
   ]
  },
  {
   "cell_type": "markdown",
   "metadata": {},
   "source": [
    "* When you use \"while\" loop, be caution not to **loop infinitly**. You should make sure the *while condition* should be *False* in some time so that your program can end up with a result. If you accidentally make the program loop infinitely, press `control+C` key."
   ]
  },
  {
   "cell_type": "markdown",
   "metadata": {},
   "source": [
    "## 3. The \"for\" loop"
   ]
  },
  {
   "cell_type": "markdown",
   "metadata": {},
   "source": [
    "The **for** statement is another looping statement which iterates over a sequence of objects i.e. go through each item in a sequence. We will see more about sequences in detail in later chapters. What you need to know right now is that a sequence is just an ordered collection of items."
   ]
  },
  {
   "cell_type": "markdown",
   "metadata": {},
   "source": [
    "#### Example"
   ]
  },
  {
   "cell_type": "code",
   "execution_count": 11,
   "metadata": {
    "collapsed": false
   },
   "outputs": [
    {
     "name": "stdout",
     "output_type": "stream",
     "text": [
      "1\n",
      "2\n",
      "3\n",
      "4\n",
      "The for loop is over\n"
     ]
    }
   ],
   "source": [
    "for i in range(1,5):\n",
    "    print i\n",
    "else:\n",
    "    print 'The for loop is over'"
   ]
  },
  {
   "cell_type": "code",
   "execution_count": 5,
   "metadata": {
    "collapsed": false
   },
   "outputs": [
    {
     "name": "stdout",
     "output_type": "stream",
     "text": [
      "cat 3\n",
      "window 6\n",
      "defenestrate 12\n"
     ]
    }
   ],
   "source": [
    "words = ['cat', 'window', 'defenestrate']\n",
    "for word in words:\n",
    "    print word, len(word)"
   ]
  },
  {
   "cell_type": "markdown",
   "metadata": {},
   "source": [
    "## 4. The \"break\" statement"
   ]
  },
  {
   "cell_type": "markdown",
   "metadata": {},
   "source": [
    "The **break** statement is used to break out of a loop statement i.e. stop the execution of a looping statement, even if the loop condition has not become *False* or the sequence of items has been completely iterated over."
   ]
  },
  {
   "cell_type": "markdown",
   "metadata": {},
   "source": [
    "#### Example"
   ]
  },
  {
   "cell_type": "code",
   "execution_count": 6,
   "metadata": {
    "collapsed": false
   },
   "outputs": [
    {
     "name": "stdout",
     "output_type": "stream",
     "text": [
      "Enter something : haha\n",
      "Length of the string is 4\n",
      "Enter something : Python\n",
      "Length of the string is 6\n",
      "Enter something : quit\n",
      "Done\n"
     ]
    }
   ],
   "source": [
    "while True:\n",
    "    s = raw_input('Enter something : ')\n",
    "    if s == 'quit':\n",
    "        break\n",
    "    print 'Length of the string is', len(s)\n",
    "print 'Done'"
   ]
  },
  {
   "cell_type": "markdown",
   "metadata": {},
   "source": [
    "## 5. The \"continue\" statement"
   ]
  },
  {
   "cell_type": "markdown",
   "metadata": {},
   "source": [
    "The **continue** statement is used to tell Python to skip the rest of the statements in the **current loop block** and to continue to the next *iteration* of the loop."
   ]
  },
  {
   "cell_type": "markdown",
   "metadata": {},
   "source": [
    "#### Example"
   ]
  },
  {
   "cell_type": "code",
   "execution_count": 8,
   "metadata": {
    "collapsed": false
   },
   "outputs": [
    {
     "name": "stdout",
     "output_type": "stream",
     "text": [
      "Enter something : Python is simple but powerful\n",
      "Input is of sufficient length\n",
      "Enter something : Really?\n",
      "Input is of sufficient length\n",
      "Enter something : yes!\n",
      "Enter something : quit\n"
     ]
    }
   ],
   "source": [
    "while True:\n",
    "    s = raw_input('Enter something : ')\n",
    "    if s == 'quit':\n",
    "        break\n",
    "    if len(s) < 5:\n",
    "        continue\n",
    "    print 'Input is of sufficient length'\n",
    "    # Do other kinds of processing here..."
   ]
  },
  {
   "cell_type": "markdown",
   "metadata": {},
   "source": [
    "## 6. Examples"
   ]
  },
  {
   "cell_type": "markdown",
   "metadata": {},
   "source": [
    "**Example 1: Calculate the sum between 1 and 100**"
   ]
  },
  {
   "cell_type": "code",
   "execution_count": 1,
   "metadata": {
    "collapsed": false
   },
   "outputs": [
    {
     "name": "stdout",
     "output_type": "stream",
     "text": [
      "5050\n"
     ]
    }
   ],
   "source": [
    "s = 0\n",
    "for i in range(1, 101):\n",
    "    s = s + i\n",
    "print s"
   ]
  },
  {
   "cell_type": "markdown",
   "metadata": {},
   "source": [
    "#### Example 2: Find the prime numbers between 2 and 19"
   ]
  },
  {
   "cell_type": "code",
   "execution_count": 10,
   "metadata": {
    "collapsed": false
   },
   "outputs": [
    {
     "name": "stdout",
     "output_type": "stream",
     "text": [
      "4 = 2 * 2\n",
      "6 = 2 * 3\n",
      "8 = 2 * 4\n",
      "9 = 3 * 3\n",
      "10 = 2 * 5\n",
      "12 = 2 * 6\n",
      "14 = 2 * 7\n",
      "15 = 3 * 5\n",
      "16 = 2 * 8\n",
      "18 = 2 * 9\n",
      "[2, 3, 5, 7, 11, 13, 17, 19]\n"
     ]
    }
   ],
   "source": [
    "factor = []\n",
    "for n in range(2, 20):\n",
    "    for x in range(2, n):\n",
    "        if n%x == 0:\n",
    "            print n, \"=\", x, \"*\", n/x\n",
    "            break\n",
    "    else:   # see how indentation works          \n",
    "        factor.append(n)\n",
    "print factor"
   ]
  },
  {
   "cell_type": "markdown",
   "metadata": {},
   "source": [
    "#### Example 3: Print  number triangle like below:"
   ]
  },
  {
   "cell_type": "markdown",
   "metadata": {},
   "source": [
    " <img src=\"number-triangle.png\" width = \"180\" height = \"30\" alt=\"图片名称\" align=center />"
   ]
  },
  {
   "cell_type": "code",
   "execution_count": 16,
   "metadata": {
    "collapsed": false
   },
   "outputs": [
    {
     "name": "stdout",
     "output_type": "stream",
     "text": [
      "1 \n",
      "\n",
      "1 2 \n",
      "\n",
      "1 2 3 \n",
      "\n",
      "1 2 3 4 \n",
      "\n",
      "1 2 3 4 5 \n",
      "\n",
      "1 2 3 4 5 6 \n",
      "\n",
      "1 2 3 4 5 6 7 \n",
      "\n",
      "1 2 3 4 5 6 7 8 \n",
      "\n",
      "1 2 3 4 5 6 7 8 9 \n",
      "\n"
     ]
    }
   ],
   "source": [
    "for i in range(1, 10):\n",
    "    for j in range(1,i+1):\n",
    "        print j,\n",
    "    else:\n",
    "        print '\\n'"
   ]
  },
  {
   "cell_type": "code",
   "execution_count": null,
   "metadata": {
    "collapsed": true
   },
   "outputs": [],
   "source": []
  }
 ],
 "metadata": {
  "kernelspec": {
   "display_name": "Python 2",
   "language": "python",
   "name": "python2"
  },
  "language_info": {
   "codemirror_mode": {
    "name": "ipython",
    "version": 2
   },
   "file_extension": ".py",
   "mimetype": "text/x-python",
   "name": "python",
   "nbconvert_exporter": "python",
   "pygments_lexer": "ipython2",
   "version": "2.7.13"
  }
 },
 "nbformat": 4,
 "nbformat_minor": 0
}
